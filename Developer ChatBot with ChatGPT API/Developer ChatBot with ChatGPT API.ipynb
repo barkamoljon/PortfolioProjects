{
 "cells": [
  {
   "cell_type": "code",
   "execution_count": 1,
   "metadata": {},
   "outputs": [
    {
     "name": "stdout",
     "output_type": "stream",
     "text": [
      "Running on local URL:  http://127.0.0.1:7861\n",
      "\n",
      "To create a public link, set `share=True` in `launch()`.\n"
     ]
    },
    {
     "data": {
      "text/html": [
       "<div><iframe src=\"http://127.0.0.1:7861/\" width=\"100%\" height=\"500\" allow=\"autoplay; camera; microphone; clipboard-read; clipboard-write;\" frameborder=\"0\" allowfullscreen></iframe></div>"
      ],
      "text/plain": [
       "<IPython.core.display.HTML object>"
      ]
     },
     "metadata": {},
     "output_type": "display_data"
    },
    {
     "data": {
      "text/plain": []
     },
     "execution_count": 1,
     "metadata": {},
     "output_type": "execute_result"
    },
    {
     "name": "stdout",
     "output_type": "stream",
     "text": [
      "Hello! How may I assist you today with programming related questions?\n",
      "Sure, here's a simple example of a unit test in Python using the built-in `unittest` module:\n",
      "\n",
      "<pre>\n",
      "import unittest\n",
      "\n",
      "def multiply(a, b):\n",
      "    return a * b\n",
      "\n",
      "class TestMultiplyFunction(unittest.TestCase):\n",
      "\n",
      "    def test_multiply(self):\n",
      "        self.assertEqual(multiply(2, 3), 6)\n",
      "        self.assertEqual(multiply(0, 4), 0)\n",
      "        with self.assertRaises(TypeError):\n",
      "            multiply(2, '3')\n",
      "\n",
      "if __name__ == '__main__':\n",
      "    unittest.main()\n",
      "</pre>\n",
      "\n",
      "This example defines a function `multiply()` which multiplies two numbers, and a class `TestMultiplyFunction` which inherits from `unittest.TestCase`. Within the class, there is a method `test_multiply()` which contains several test cases. `assertEqual()` checks if the result of a function call matches the expected value. `assertRaises()` checks if running the code raises the expected exception.\n",
      "\n",
      "When you run the module, `unittest.main()` runs all the test methods it can find in instances of `unittest.TestCase` and prints the results.\n"
     ]
    }
   ],
   "source": [
    "import gradio as gr\n",
    "import openai\n",
    "\n",
    "openai.api_key = open(\"key.txt\", \"r\").read().strip(\"\\n\")\n",
    "\n",
    "message_history = [{\"role\": \"user\", \"content\": f\"You are a developer bot. I will define the topic in my posts and you will answer, mainly you have to answer questions about programming, please answer clearly. If you understand, say OK.\"},\n",
    "                   {\"role\": \"assistant\", \"content\": f\"OK\"}]\n",
    "\n",
    "def predict(input):\n",
    "    # tokenize the new input sentence\n",
    "    message_history.append({\"role\": \"user\", \"content\": f\"{input}\"})\n",
    "\n",
    "    completion = openai.ChatCompletion.create(\n",
    "      model=\"gpt-3.5-turbo\", #10x cheaper than davinci, and better. $0.002 per 1k tokens\n",
    "      messages=message_history\n",
    "    )\n",
    "    #Just the reply:\n",
    "    reply_content = completion.choices[0].message.content#.replace('```python', '<pre>').replace('```', '</pre>')\n",
    "\n",
    "    print(reply_content)\n",
    "    message_history.append({\"role\": \"assistant\", \"content\": f\"{reply_content}\"}) \n",
    "    \n",
    "    # get pairs of msg[\"content\"] from message history, skipping the pre-prompt:              here.\n",
    "    response = [(message_history[i][\"content\"], message_history[i+1][\"content\"]) for i in range(2, len(message_history)-1, 2)]  # convert to tuples of list\n",
    "    return response\n",
    "\n",
    "# creates a new Blocks app and assigns it to the variable demo.\n",
    "with gr.Blocks() as demo: \n",
    "\n",
    "    # creates a new Chatbot instance and assigns it to the variable chatbot.\n",
    "    chatbot = gr.Chatbot() \n",
    "\n",
    "    # creates a new Row component, which is a container for other components.\n",
    "    with gr.Row(): \n",
    "        '''creates a new Textbox component, which is used to collect user input. \n",
    "        The show_label parameter is set to False to hide the label, \n",
    "        and the placeholder parameter is set'''\n",
    "        txt = gr.Textbox(show_label=False, placeholder=\"Enter text and press enter\").style(container=False)\n",
    "    '''\n",
    "    sets the submit action of the Textbox to the predict function, \n",
    "    which takes the input from the Textbox, the chatbot instance, \n",
    "    and the state instance as arguments. \n",
    "    This function processes the input and generates a response from the chatbot, \n",
    "    which is displayed in the output area.'''\n",
    "    txt.submit(predict, txt, chatbot) # submit(function, input, output)\n",
    "    #txt.submit(lambda :\"\", None, txt)  #Sets submit action to lambda function that returns empty string \n",
    "\n",
    "    '''\n",
    "    sets the submit action of the Textbox to a JavaScript function that returns an empty string. \n",
    "    This line is equivalent to the commented out line above, but uses a different implementation. \n",
    "    The _js parameter is used to pass a JavaScript function to the submit method.'''\n",
    "    txt.submit(None, None, txt, _js=\"() => {''}\") # No function, no input to that function, submit action to textbox is a js function that returns empty string, so it clears immediately.\n",
    "         \n",
    "demo.launch()"
   ]
  }
 ],
 "metadata": {
  "kernelspec": {
   "display_name": "Python 3 (ipykernel)",
   "language": "python",
   "name": "python3"
  },
  "language_info": {
   "codemirror_mode": {
    "name": "ipython",
    "version": 3
   },
   "file_extension": ".py",
   "mimetype": "text/x-python",
   "name": "python",
   "nbconvert_exporter": "python",
   "pygments_lexer": "ipython3",
   "version": "3.10.0"
  },
  "vscode": {
   "interpreter": {
    "hash": "e7370f93d1d0cde622a1f8e1c04877d8463912d04d973331ad4851f04de6915a"
   }
  }
 },
 "nbformat": 4,
 "nbformat_minor": 4
}
